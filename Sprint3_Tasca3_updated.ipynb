{
 "cells": [
  {
   "cell_type": "markdown",
   "metadata": {},
   "source": [
    "\n",
    "<div class=\"alert alert-block alert-info\"><font size=\"5\"><center><b><u>SPRINT3 - TASCA3: Estructura de control</u></b></center></font>\n",
    "\\begin{align*}Marc\\:Breysse\\end{align*}"
   ]
  },
  {
   "cell_type": "markdown",
   "metadata": {},
   "source": [
    "<u style=color:blue>Exercici 1:</u>\n",
    "\n",
    "<span style=color:blue>L'exercici consisteix a crear un programa que et classifiqui una variable numèrica en funció de l’escala Suspès/Aprovat/Notable/Excel·lent.</span>"
   ]
  },
  {
   "cell_type": "code",
   "execution_count": 1,
   "metadata": {},
   "outputs": [
    {
     "name": "stdout",
     "output_type": "stream",
     "text": [
      "Notable\n"
     ]
    }
   ],
   "source": [
    "a = 8\n",
    "if a < 5:\n",
    "    print(\"Suspès\")\n",
    "elif 5 <= a < 7:\n",
    "    print(\"Aprovat\")\n",
    "elif 7 <= a < 9:\n",
    "    print(\"Notable\")\n",
    "elif a >= 9:\n",
    "    print(\"Excel·lent\")"
   ]
  },
  {
   "cell_type": "markdown",
   "metadata": {},
   "source": [
    "<u style=color:blue>Exercici 2:</u>\n",
    "\n",
    "<span style=color:blue>Utilitzant el següent tutorial Programiz : Python Input, Output and Import (https://www.programiz.com/python-programming/input-output-import), crea un programa que et pregunti dos números. T’ha de mostrar un missatge dient si el primer és més gran, el segon és més gran o són iguals.</span>"
   ]
  },
  {
   "cell_type": "code",
   "execution_count": 2,
   "metadata": {},
   "outputs": [
    {
     "name": "stdout",
     "output_type": "stream",
     "text": [
      "Enter num1: 45\n",
      "Enter num2: 6\n",
      "el primer numero és més gran\n"
     ]
    }
   ],
   "source": [
    "num1 = int(input('Enter num1: '))\n",
    "num2 = int(input('Enter num2: '))\n",
    "if num1 > num2:\n",
    "    print('el primer numero és més gran')\n",
    "if num1 < num2:\n",
    "    print('el segon numero és més gran')\n",
    "if num1 == num2:\n",
    "    print('els numeros són iguals')"
   ]
  },
  {
   "cell_type": "markdown",
   "metadata": {},
   "source": [
    "<u style=color:blue>Exercici 3:</u>\n",
    "\n",
    "<span style=color:blue>Crea un programa que et pregunti el teu nom, i et demani un número. \n",
    "Si el número és 0, hauria de mostrar un missatge d’error. En cas contrari, hauria de mostrar el nom repetit tants cops com indiqui el número. Per exemple, “Joan Joan Joan”.</span>"
   ]
  },
  {
   "cell_type": "code",
   "execution_count": 3,
   "metadata": {},
   "outputs": [
    {
     "name": "stdout",
     "output_type": "stream",
     "text": [
      "Enter el teu nom: ouhou\n",
      "Enter un numero: 5\n",
      "ouhou ouhou ouhou ouhou ouhou \n"
     ]
    }
   ],
   "source": [
    "nom = input('Enter el teu nom: ')\n",
    "numero = input('Enter un numero: ')\n",
    "if int(numero) == 0:\n",
    "    print('Error Code')\n",
    "elif int(numero) != 0:\n",
    "    print((nom+' ')* int(numero))"
   ]
  },
  {
   "cell_type": "markdown",
   "metadata": {},
   "source": [
    "<u style=color:blue>Exercici 4:</u>\n",
    "\n",
    "<span style=color:blue>Crea un programa que donada una llista qualsevol, et digui si es simètrica o no. Si ho és, que et digui quants elements té.</span>"
   ]
  },
  {
   "cell_type": "code",
   "execution_count": 4,
   "metadata": {},
   "outputs": [
    {
     "name": "stdout",
     "output_type": "stream",
     "text": [
      "Original List is :  [1, 3, 8, 9, 8, 3, 1]\n",
      "Reverse list is :  [1, 3, 8, 9, 8, 3, 1]\n",
      "\n",
      "\n",
      "The list [1, 3, 8, 9, 8, 3, 1] is symmetrical and is composed of 7 elements\n"
     ]
    }
   ],
   "source": [
    "# Original List\n",
    "list = [1,3,8,9,8,3,1]\n",
    "print('Original List is : ',list)\n",
    "\n",
    "# List Reverse\n",
    "ReverseList = list[::-1]\n",
    "print('Reverse list is : ',ReverseList)\n",
    "\n",
    "print('\\n')\n",
    "\n",
    "if (len(list)) % 2 == 0:\n",
    "    print(list, 'list can not be symmetrical; it has even number of elements')\n",
    "elif list != ReverseList:\n",
    "    print('The list is not symmetrical')\n",
    "elif list == ReverseList:\n",
    "    print('The list ' + str(list) + ' is symmetrical and is composed of ' + str(len(list)) + ' elements')"
   ]
  },
  {
   "cell_type": "markdown",
   "metadata": {},
   "source": [
    "<u style=color:blue>Exercici 5:</u>\n",
    "\n",
    "<span style=color:blue>Crea un programa que donada una llista, et digui quants números coincideixen amb la seva posició. \n",
    "#Per exemple [3,4,2,0,2,3,6] el 2 i el 6 coincideixen.</span>"
   ]
  },
  {
   "cell_type": "code",
   "execution_count": null,
   "metadata": {},
   "outputs": [
    {
     "name": "stdout",
     "output_type": "stream",
     "text": [
      "Enter the list size :  5\n",
      "\n",
      "\n",
      "Enter number between 0 and 4 at index 0\n",
      "4\n",
      "Enter number between 0 and 4 at index 1\n",
      "6\n",
      "Enter number between 0 and 4 at index 2\n"
     ]
    }
   ],
   "source": [
    "# Crear una llista \n",
    "list = []\n",
    "n = int(input(\"Enter the list size :  \"))\n",
    "print(\"\\n\")\n",
    "for i in range(0, n):\n",
    "    print(\"Enter number between 0 and \" + str(n-1) + \" at index\",i,)\n",
    "    item = int(input())\n",
    "    list.append(item)\n",
    "print(\"\\n\")\n",
    "print('Built list is:',list)\n",
    "print(\"\\n\")\n",
    "\n",
    "for idx, val in enumerate(list):\n",
    "    if idx == val:\n",
    "        print(\"for index %d, value in the list and its index are similar\" % (idx))"
   ]
  },
  {
   "cell_type": "code",
   "execution_count": null,
   "metadata": {},
   "outputs": [],
   "source": []
  }
 ],
 "metadata": {
  "kernelspec": {
   "display_name": "Python 3",
   "language": "python",
   "name": "python3"
  },
  "language_info": {
   "codemirror_mode": {
    "name": "ipython",
    "version": 3
   },
   "file_extension": ".py",
   "mimetype": "text/x-python",
   "name": "python",
   "nbconvert_exporter": "python",
   "pygments_lexer": "ipython3",
   "version": "3.8.5"
  }
 },
 "nbformat": 4,
 "nbformat_minor": 4
}
