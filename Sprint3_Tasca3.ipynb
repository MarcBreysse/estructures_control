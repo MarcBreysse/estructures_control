{
 "cells": [
  {
   "cell_type": "code",
   "execution_count": 1,
   "metadata": {},
   "outputs": [
    {
     "name": "stdout",
     "output_type": "stream",
     "text": [
      "Notable\n",
      "Enter num1: 100\n",
      "Enter num2: 10\n",
      "el primer numero és més gran\n",
      "Enter el teu nom: marc\n",
      "Enter un numero: 2\n",
      "marcmarc\n",
      "2\n",
      "2\n",
      "6\n"
     ]
    }
   ],
   "source": [
    "#Exercici1_programa que et classifiqui una variable numèrica en funció de l’escala Suspès/Aprovat/Notable/Excel·lent\n",
    "a = 8\n",
    "if a < 5:\n",
    "    print(\"Suspès\")\n",
    "elif 5 <= a < 7:\n",
    "    print(\"Aprovat\")\n",
    "elif 7 <= a < 9:\n",
    "    print(\"Notable\")\n",
    "elif a >= 9:\n",
    "    print(\"Excel·lent\")\n",
    "    \n",
    "#Exercici2_Utilitzant el següent tutorial Programiz: Python Input, Output and Import \n",
    "#crea un programa que et pregunti dos números. T’ha de mostrar un missatge dient \n",
    "#si el primer és més gran, el segon és més gran o són iguals.\n",
    "num1 = input('Enter num1: ')\n",
    "num2 = input('Enter num2: ')\n",
    "if num1 > num2:\n",
    "    print('el primer numero és més gran')\n",
    "if num1 < num2:\n",
    "    print('el segon numero és més gran')\n",
    "\n",
    "    \n",
    "#Exercici3_Crea un programa que et pregunti el teu nom, i et demani un número. \n",
    "#Si el número és 0, hauria de mostrar un missatge d’error. \n",
    "#En cas contrari, hauria de mostrar el nom repetit tants cops com indiqui el número. \n",
    "#Per exemple, “Joan Joan Joan”.\n",
    "nom = input('Enter el teu nom: ')\n",
    "numero = input('Enter un numero: ')\n",
    "if int(numero) == 0:\n",
    "    print('error')\n",
    "elif int(numero) != 0:\n",
    "    print(nom* int(numero))\n",
    "\n",
    "#Exercici4_Crea un programa que donada una llista qualsevol, et digui si es simètrica o no. \n",
    "#Si ho és, que et digui quants elements té.\n",
    "lista = [3,4,2,0,2,3,6]\n",
    "#TBC....\n",
    "\n",
    "\n",
    "#Exercici5_Crea un programa que donada una llista, et digui quants números coincideixen amb la seva posició. \n",
    "#Per exemple [3,4,2,0,2,3,6] el 2 i el 6 coincideixen.lista = [3,4,2,0,2,3,6]\n",
    "lista = [3,4,2,0,2,3,6]\n",
    "for x in [1,2,3,4,5,6]:\n",
    "    if lista[x] == (lista.index(lista[x])):\n",
    "        print(lista[x])\n",
    "    elif lista[x] != (lista.index(lista[x])):\n",
    "        continue"
   ]
  }
 ],
 "metadata": {
  "kernelspec": {
   "display_name": "Python 3",
   "language": "python",
   "name": "python3"
  },
  "language_info": {
   "codemirror_mode": {
    "name": "ipython",
    "version": 3
   },
   "file_extension": ".py",
   "mimetype": "text/x-python",
   "name": "python",
   "nbconvert_exporter": "python",
   "pygments_lexer": "ipython3",
   "version": "3.8.5"
  }
 },
 "nbformat": 4,
 "nbformat_minor": 4
}
